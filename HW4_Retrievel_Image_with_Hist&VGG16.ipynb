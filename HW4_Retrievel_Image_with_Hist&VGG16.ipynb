{
  "nbformat": 4,
  "nbformat_minor": 0,
  "metadata": {
    "colab": {
      "provenance": [],
      "collapsed_sections": []
    },
    "kernelspec": {
      "name": "python3",
      "display_name": "Python 3"
    },
    "language_info": {
      "name": "python"
    },
    "accelerator": "GPU",
    "gpuClass": "standard"
  },
  "cells": [
    {
      "cell_type": "markdown",
      "source": [
        "1.MSSV: 20520435\n",
        "\n",
        "2.Họ tên: Nguyễn Duy Đạt\n",
        "\n",
        "3.Bài tập: 4\n",
        "\n",
        "4.Ngày thực hiện: 4/11/2022"
      ],
      "metadata": {
        "id": "-uS5FkJjL1Nu"
      }
    },
    {
      "cell_type": "code",
      "execution_count": 53,
      "metadata": {
        "colab": {
          "base_uri": "https://localhost:8080/"
        },
        "id": "qTaiqTnmLlpa",
        "outputId": "34c80ff6-04a0-4d5e-a3fe-1dfb725d54f2"
      },
      "outputs": [
        {
          "output_type": "stream",
          "name": "stdout",
          "text": [
            "/content/drive/.shortcut-targets-by-id/1lwaNWZ8gZAvJd-lrt6fh9lyMSVWP7S9g/CS331.N11.KHTN/Baitap/Baitap4/Dataset/Holiday/eval_holidays\n"
          ]
        }
      ],
      "source": [
        "%cd \"/content/drive/MyDrive/CS331.N11.KHTN/Baitap/Baitap4/Dataset/Holiday\""
      ]
    },
    {
      "cell_type": "code",
      "source": [
        "import numpy as np\n",
        "from pathlib import Path\n",
        "from scipy.spatial import distance"
      ],
      "metadata": {
        "id": "JTNz_JPqfwBo"
      },
      "execution_count": 2,
      "outputs": []
    },
    {
      "cell_type": "markdown",
      "source": [
        "# Histogram"
      ],
      "metadata": {
        "id": "EC8pb4Qpfqc3"
      }
    },
    {
      "cell_type": "code",
      "source": [
        "ls = list(Path(\"/content/drive/MyDrive/CS331.N11.KHTN/Baitap/Baitap4/Dataset/Holiday/features/hist256numpy\").glob('**/*.npy'))"
      ],
      "metadata": {
        "id": "RCEn9Zdjet8l"
      },
      "execution_count": 59,
      "outputs": []
    },
    {
      "cell_type": "code",
      "source": [
        "numpyList = []\n",
        "for img in ls:\n",
        "  numpyList.append({\"name\" : int(img.stem), \"feature\" : np.load(img)})"
      ],
      "metadata": {
        "id": "DEngROWCeqRD"
      },
      "execution_count": 60,
      "outputs": []
    },
    {
      "cell_type": "code",
      "source": [
        "numpyList[0]"
      ],
      "metadata": {
        "colab": {
          "base_uri": "https://localhost:8080/"
        },
        "id": "RYIet88UOL42",
        "outputId": "2e746e43-e4d1-47fd-d730-57d6543c4c04"
      },
      "execution_count": 62,
      "outputs": [
        {
          "output_type": "execute_result",
          "data": {
            "text/plain": [
              "{'name': 139203, 'feature': array([[1.34512741e-05],\n",
              "        [9.16368048e-05],\n",
              "        [3.17786351e-04],\n",
              "        [8.24563103e-04],\n",
              "        [1.61835642e-03],\n",
              "        [2.57558271e-03],\n",
              "        [3.54911867e-03],\n",
              "        [4.74174226e-03],\n",
              "        [6.67754875e-03],\n",
              "        [9.66255461e-03],\n",
              "        [1.36764148e-02],\n",
              "        [1.74195681e-02],\n",
              "        [2.03420255e-02],\n",
              "        [2.30327848e-02],\n",
              "        [2.46962030e-02],\n",
              "        [2.36732336e-02],\n",
              "        [1.95067014e-02],\n",
              "        [1.42766779e-02],\n",
              "        [1.00665973e-02],\n",
              "        [8.08253433e-03],\n",
              "        [7.50480210e-03],\n",
              "        [7.59307609e-03],\n",
              "        [7.75785420e-03],\n",
              "        [7.56533284e-03],\n",
              "        [7.11269746e-03],\n",
              "        [6.41625775e-03],\n",
              "        [5.71393310e-03],\n",
              "        [5.03481190e-03],\n",
              "        [4.74527322e-03],\n",
              "        [4.74594579e-03],\n",
              "        [4.90937877e-03],\n",
              "        [5.31426212e-03],\n",
              "        [5.90157837e-03],\n",
              "        [6.48082386e-03],\n",
              "        [6.91513188e-03],\n",
              "        [6.97229979e-03],\n",
              "        [6.71823885e-03],\n",
              "        [6.29099276e-03],\n",
              "        [5.73898610e-03],\n",
              "        [5.23540402e-03],\n",
              "        [4.78512262e-03],\n",
              "        [4.59848619e-03],\n",
              "        [4.40344272e-03],\n",
              "        [4.35737211e-03],\n",
              "        [4.30524842e-03],\n",
              "        [4.32576161e-03],\n",
              "        [4.27935472e-03],\n",
              "        [4.33046956e-03],\n",
              "        [4.34862878e-03],\n",
              "        [4.29583253e-03],\n",
              "        [4.28540779e-03],\n",
              "        [4.20486829e-03],\n",
              "        [4.19898335e-03],\n",
              "        [4.25446986e-03],\n",
              "        [4.18536394e-03],\n",
              "        [4.01638231e-03],\n",
              "        [3.81528576e-03],\n",
              "        [3.59434858e-03],\n",
              "        [3.34381860e-03],\n",
              "        [3.07714709e-03],\n",
              "        [2.83922768e-03],\n",
              "        [2.63006037e-03],\n",
              "        [2.45687522e-03],\n",
              "        [2.30168114e-03],\n",
              "        [2.15169943e-03],\n",
              "        [2.03282380e-03],\n",
              "        [1.91024906e-03],\n",
              "        [1.80028490e-03],\n",
              "        [1.68948003e-03],\n",
              "        [1.64038288e-03],\n",
              "        [1.55732126e-03],\n",
              "        [1.48350739e-03],\n",
              "        [1.41187936e-03],\n",
              "        [1.29888866e-03],\n",
              "        [1.25365875e-03],\n",
              "        [1.18993334e-03],\n",
              "        [1.12603978e-03],\n",
              "        [1.10737614e-03],\n",
              "        [1.09812839e-03],\n",
              "        [1.08568596e-03],\n",
              "        [1.07980103e-03],\n",
              "        [1.10502217e-03],\n",
              "        [1.13125215e-03],\n",
              "        [1.15899541e-03],\n",
              "        [1.19010148e-03],\n",
              "        [1.19985365e-03],\n",
              "        [1.20792441e-03],\n",
              "        [1.22238453e-03],\n",
              "        [1.30275590e-03],\n",
              "        [1.43306511e-03],\n",
              "        [1.61263962e-03],\n",
              "        [1.78061241e-03],\n",
              "        [1.94219584e-03],\n",
              "        [2.11084119e-03],\n",
              "        [2.25594681e-03],\n",
              "        [2.41349486e-03],\n",
              "        [2.47335303e-03],\n",
              "        [2.60231712e-03],\n",
              "        [2.61812236e-03],\n",
              "        [2.61812236e-03],\n",
              "        [2.65629035e-03],\n",
              "        [2.70555565e-03],\n",
              "        [2.86293555e-03],\n",
              "        [3.01846591e-03],\n",
              "        [3.15365121e-03],\n",
              "        [3.26210211e-03],\n",
              "        [3.35962385e-03],\n",
              "        [3.48505698e-03],\n",
              "        [3.72297639e-03],\n",
              "        [3.92289595e-03],\n",
              "        [4.16216049e-03],\n",
              "        [4.49188485e-03],\n",
              "        [4.79756505e-03],\n",
              "        [4.99176782e-03],\n",
              "        [5.07466130e-03],\n",
              "        [5.05347554e-03],\n",
              "        [5.17991752e-03],\n",
              "        [5.28029765e-03],\n",
              "        [5.48105792e-03],\n",
              "        [5.65642890e-03],\n",
              "        [5.81111855e-03],\n",
              "        [5.93941008e-03],\n",
              "        [5.91990573e-03],\n",
              "        [6.01120626e-03],\n",
              "        [6.08232987e-03],\n",
              "        [6.27216097e-03],\n",
              "        [6.67603548e-03],\n",
              "        [6.90184874e-03],\n",
              "        [6.94707865e-03],\n",
              "        [7.05065346e-03],\n",
              "        [7.01954739e-03],\n",
              "        [7.08478607e-03],\n",
              "        [7.23190938e-03],\n",
              "        [7.34910361e-03],\n",
              "        [7.60921762e-03],\n",
              "        [7.74137639e-03],\n",
              "        [7.56499656e-03],\n",
              "        [7.42997939e-03],\n",
              "        [7.28991800e-03],\n",
              "        [7.26705084e-03],\n",
              "        [7.17322820e-03],\n",
              "        [7.19659979e-03],\n",
              "        [7.23022797e-03],\n",
              "        [7.22636073e-03],\n",
              "        [7.27562602e-03],\n",
              "        [7.50782864e-03],\n",
              "        [7.59223539e-03],\n",
              "        [7.63124408e-03],\n",
              "        [7.53153651e-03],\n",
              "        [7.59963359e-03],\n",
              "        [7.52918254e-03],\n",
              "        [7.20803337e-03],\n",
              "        [6.94808750e-03],\n",
              "        [6.86418518e-03],\n",
              "        [6.94909634e-03],\n",
              "        [6.89764522e-03],\n",
              "        [6.79709695e-03],\n",
              "        [6.55110677e-03],\n",
              "        [6.36060310e-03],\n",
              "        [6.16656847e-03],\n",
              "        [5.89384389e-03],\n",
              "        [5.64129622e-03],\n",
              "        [5.22397044e-03],\n",
              "        [4.99647577e-03],\n",
              "        [4.92299818e-03],\n",
              "        [4.81841453e-03],\n",
              "        [4.54451296e-03],\n",
              "        [4.38831004e-03],\n",
              "        [4.23799205e-03],\n",
              "        [4.36931011e-03],\n",
              "        [4.33601821e-03],\n",
              "        [4.34896506e-03],\n",
              "        [4.40411528e-03],\n",
              "        [4.56099077e-03],\n",
              "        [4.76629084e-03],\n",
              "        [4.56855711e-03],\n",
              "        [4.38494722e-03],\n",
              "        [4.06480689e-03],\n",
              "        [3.80519730e-03],\n",
              "        [3.44554386e-03],\n",
              "        [3.02233315e-03],\n",
              "        [2.76844035e-03],\n",
              "        [2.68336104e-03],\n",
              "        [2.69176809e-03],\n",
              "        [2.67646726e-03],\n",
              "        [2.55893676e-03],\n",
              "        [2.45990175e-03],\n",
              "        [2.37818526e-03],\n",
              "        [2.31715011e-03],\n",
              "        [2.07334576e-03],\n",
              "        [1.83357680e-03],\n",
              "        [1.67653318e-03],\n",
              "        [1.66711728e-03],\n",
              "        [1.57884330e-03],\n",
              "        [1.58254240e-03],\n",
              "        [1.53916204e-03],\n",
              "        [1.54269300e-03],\n",
              "        [1.53781691e-03],\n",
              "        [1.54773723e-03],\n",
              "        [1.50284360e-03],\n",
              "        [1.39422456e-03],\n",
              "        [1.36715387e-03],\n",
              "        [1.33604780e-03],\n",
              "        [1.37926002e-03],\n",
              "        [1.41574660e-03],\n",
              "        [1.48031272e-03],\n",
              "        [1.50502943e-03],\n",
              "        [1.63735634e-03],\n",
              "        [1.59027688e-03],\n",
              "        [1.52688775e-03],\n",
              "        [1.53428595e-03],\n",
              "        [1.59532111e-03],\n",
              "        [1.58876361e-03],\n",
              "        [1.49410027e-03],\n",
              "        [1.17967674e-03],\n",
              "        [7.01147663e-04],\n",
              "        [2.80459065e-04],\n",
              "        [9.14686639e-05],\n",
              "        [3.53095945e-05],\n",
              "        [1.81592200e-05],\n",
              "        [1.27787104e-05],\n",
              "        [1.27787104e-05],\n",
              "        [1.61415289e-05],\n",
              "        [1.42919787e-05],\n",
              "        [1.29468513e-05],\n",
              "        [1.37875560e-05],\n",
              "        [1.36194150e-05],\n",
              "        [1.51326834e-05],\n",
              "        [1.71503745e-05],\n",
              "        [1.63096699e-05],\n",
              "        [1.89999247e-05],\n",
              "        [1.76547973e-05],\n",
              "        [1.93362065e-05],\n",
              "        [1.79910791e-05],\n",
              "        [2.21946023e-05],\n",
              "        [2.52211389e-05],\n",
              "        [2.16901795e-05],\n",
              "        [2.38760115e-05],\n",
              "        [2.55574208e-05],\n",
              "        [2.35397297e-05],\n",
              "        [2.26990251e-05],\n",
              "        [2.53892799e-05],\n",
              "        [3.44688899e-05],\n",
              "        [5.61590694e-05],\n",
              "        [4.25396544e-05],\n",
              "        [4.22033725e-05],\n",
              "        [2.65662664e-05],\n",
              "        [1.17698648e-05],\n",
              "        [9.41589187e-06],\n",
              "        [6.89377798e-06],\n",
              "        [5.04422779e-06],\n",
              "        [3.02653667e-06],\n",
              "        [4.37166408e-06],\n",
              "        [3.53095945e-06],\n",
              "        [8.07076446e-06],\n",
              "        [2.80795347e-05]])}"
            ]
          },
          "metadata": {},
          "execution_count": 62
        }
      ]
    },
    {
      "cell_type": "code",
      "source": [
        "def query(img):\n",
        "    arr = []\n",
        "    for img2 in numpyList:\n",
        "      feature_img = img['feature']\n",
        "      feature_img2 = img2['feature']\n",
        "      arr.append(distance.cosine(feature_img, feature_img2))\n",
        "\n",
        "    top10 = np.argsort(arr)[:10]\n",
        "    result = str(img['name']) + '.jpg' + ' '\n",
        "    count = 0\n",
        "    for i in top10:\n",
        "      result = result + str(count) + ' ' + str(numpyList[i]['name']) + '.jpg' + ' '\n",
        "      count = count + 1\n",
        "    return result\n",
        "\n",
        "f = open(\"/content/drive/MyDrive/CS331.N11.KHTN/Baitap/Baitap4/Dataset/Holiday/eval_holidays/20520435_hist.dat\", \"w\")\n",
        "\n",
        "for img in numpyList:\n",
        "  if img['name'] % 100 == 0:\n",
        "    f.write(query(img) + '\\n')\n",
        "f.close()"
      ],
      "metadata": {
        "id": "Y9y9WG0MWI3B"
      },
      "execution_count": 63,
      "outputs": []
    },
    {
      "cell_type": "code",
      "source": [
        "%cd \"/content/drive/MyDrive/CS331.N11.KHTN/Baitap/Baitap4/Dataset/Holiday/eval_holidays\"\n",
        "!python2 holidays_map.py 20520435_hist.dat"
      ],
      "metadata": {
        "id": "AvBnSlCFewab",
        "colab": {
          "base_uri": "https://localhost:8080/"
        },
        "outputId": "bb6fe934-d387-4411-8312-c8466fbec879"
      },
      "execution_count": 64,
      "outputs": [
        {
          "output_type": "stream",
          "name": "stdout",
          "text": [
            "/content/drive/.shortcut-targets-by-id/1lwaNWZ8gZAvJd-lrt6fh9lyMSVWP7S9g/CS331.N11.KHTN/Baitap/Baitap4/Dataset/Holiday/eval_holidays\n",
            "mAP for 20520435_hist.dat: 0.14559\n"
          ]
        }
      ]
    },
    {
      "cell_type": "markdown",
      "source": [
        "# VGG16"
      ],
      "metadata": {
        "id": "p6Ps5_lcqp_l"
      }
    },
    {
      "cell_type": "code",
      "source": [
        "ls_vgg = list(Path('/content/drive/MyDrive/CS331.N11.KHTN/Baitap/Baitap4/Dataset/Holiday/features/VGG16').glob('**/*.npy'))"
      ],
      "metadata": {
        "id": "japzNIWKEXCg"
      },
      "execution_count": 65,
      "outputs": []
    },
    {
      "cell_type": "code",
      "source": [
        "numpyList = []\n",
        "for img in ls_vgg:\n",
        "  numpyList.append({\"name\" : int(img.stem), \"feature\" : np.load(img).reshape(-1, 1)})"
      ],
      "metadata": {
        "id": "meEhrRfPEXCh"
      },
      "execution_count": 66,
      "outputs": []
    },
    {
      "cell_type": "code",
      "source": [
        "numpyList[0]"
      ],
      "metadata": {
        "colab": {
          "base_uri": "https://localhost:8080/"
        },
        "id": "nnXi5FiCGBwz",
        "outputId": "b5625093-9310-49a1-ae81-0ee8fa6e1b3e"
      },
      "execution_count": 67,
      "outputs": [
        {
          "output_type": "execute_result",
          "data": {
            "text/plain": [
              "{'name': 139103, 'feature': array([[0.      ],\n",
              "        [0.      ],\n",
              "        [0.      ],\n",
              "        ...,\n",
              "        [0.      ],\n",
              "        [3.849993],\n",
              "        [0.      ]], dtype=float32)}"
            ]
          },
          "metadata": {},
          "execution_count": 67
        }
      ]
    },
    {
      "cell_type": "code",
      "source": [
        "def query(img):\n",
        "    arr = []\n",
        "    for img2 in numpyList:\n",
        "      feature_img = img['feature']\n",
        "      feature_img2 = img2['feature']\n",
        "      arr.append(distance.cosine(feature_img, feature_img2))\n",
        "\n",
        "    top10 = np.argsort(arr)[:10]\n",
        "    result = str(img['name']) + '.jpg' + ' '\n",
        "    count = 0\n",
        "    for i in top10:\n",
        "      result = result + str(count) + ' ' + str(numpyList[i]['name']) + '.jpg' + ' '\n",
        "      count = count + 1\n",
        "    return result\n",
        "\n",
        "f = open(\"/content/drive/MyDrive/CS331.N11.KHTN/Baitap/Baitap4/Dataset/Holiday/eval_holidays/20520435_VGG16.dat\", \"w\")\n",
        "\n",
        "for img in numpyList:\n",
        "  if img['name'] % 100 == 0:\n",
        "    f.write(query(img) + '\\n')\n",
        "f.close()"
      ],
      "metadata": {
        "id": "gitoA7vzEXCh"
      },
      "execution_count": 69,
      "outputs": []
    },
    {
      "cell_type": "code",
      "source": [
        "%cd \"/content/drive/MyDrive/CS331.N11.KHTN/Baitap/Baitap4/Dataset/Holiday/eval_holidays\"\n",
        "!python2 holidays_map.py 20520435_VGG16.dat"
      ],
      "metadata": {
        "colab": {
          "base_uri": "https://localhost:8080/"
        },
        "outputId": "547b0681-d885-4259-9655-e9c5b33b3a26",
        "id": "fNnMBQQeEXCh"
      },
      "execution_count": 70,
      "outputs": [
        {
          "output_type": "stream",
          "name": "stdout",
          "text": [
            "/content/drive/.shortcut-targets-by-id/1lwaNWZ8gZAvJd-lrt6fh9lyMSVWP7S9g/CS331.N11.KHTN/Baitap/Baitap4/Dataset/Holiday/eval_holidays\n",
            "mAP for 20520435_VGG16.dat: 0.63880\n"
          ]
        }
      ]
    }
  ]
}